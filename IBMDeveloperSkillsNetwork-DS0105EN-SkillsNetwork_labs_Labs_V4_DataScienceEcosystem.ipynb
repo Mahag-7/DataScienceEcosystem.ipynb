{
  "metadata": {
    "language_info": {
      "file_extension": ".py",
      "mimetype": "text/x-python",
      "name": "python",
      "version": "3.10.2"
    },
    "kernelspec": {
      "name": "xeus-python",
      "display_name": "Python (XPython)",
      "language": "python"
    }
  },
  "nbformat_minor": 4,
  "nbformat": 4,
  "cells": [
    {
      "cell_type": "markdown",
      "source": "# H1:Data Science Tools and Ecosystem\n",
      "metadata": {}
    },
    {
      "cell_type": "markdown",
      "source": "* In this notebook, Data Science Tools and Ecosystem are summarized.",
      "metadata": {}
    },
    {
      "cell_type": "markdown",
      "source": "**List popular languages for Data Science**\n - SQL\n - SCALA\n - JAVA\n ",
      "metadata": {}
    },
    {
      "cell_type": "markdown",
      "source": "**Some of the popular languages that Data Scientists use are:**",
      "metadata": {}
    },
    {
      "cell_type": "markdown",
      "source": "1. PYTHON\n2. R\n3. JULIA",
      "metadata": {}
    },
    {
      "cell_type": "markdown",
      "source": "**__ Some of the commonly used libraries used by Data Scientists include:**__",
      "metadata": {}
    },
    {
      "cell_type": "markdown",
      "source": "1. NUMPY\n2. PANDA\n3. DPLYR",
      "metadata": {}
    },
    {
      "cell_type": "markdown",
      "source": "| Data Science Tools |\n|--------------------|\n|      APACH SPARK   |\n|     TENSORFLOW     |\n|      RSTUDIO       |",
      "metadata": {}
    },
    {
      "cell_type": "markdown",
      "source": "# H3:Below are a few examples of evaluating arithmetic expressions in Python.",
      "metadata": {}
    },
    {
      "cell_type": "code",
      "source": "a = 3\nb = 4\nc = 5\nd =a*b+c\nprint(\"This a simple arithmetic expression to mutiply then add integers =\",d)",
      "metadata": {
        "trusted": true
      },
      "execution_count": 1,
      "outputs": [
        {
          "name": "stdout",
          "text": "This a simple arithmetic expression to mutiply then add integers = 17\n",
          "output_type": "stream"
        }
      ]
    },
    {
      "cell_type": "code",
      "source": "Minutes = 200 \nHours = Minutes // 60\nprint( \"This will convert 200 minutes to hours by diving by 60 =\",Hours)",
      "metadata": {
        "trusted": true
      },
      "execution_count": 2,
      "outputs": [
        {
          "name": "stdout",
          "text": "This will convert 200 minutes to hours by diving by 60 = 3\n",
          "output_type": "stream"
        }
      ]
    },
    {
      "cell_type": "markdown",
      "source": "# H2:Author \nMAHA GHAZI ALMUTAIRI",
      "metadata": {}
    },
    {
      "cell_type": "code",
      "source": "",
      "metadata": {},
      "execution_count": null,
      "outputs": []
    }
  ]
}